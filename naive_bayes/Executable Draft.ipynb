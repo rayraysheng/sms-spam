{
 "cells": [
  {
   "cell_type": "code",
   "execution_count": 1,
   "id": "5a931c9c",
   "metadata": {},
   "outputs": [],
   "source": [
    "import numpy as np\n",
    "import scipy as sp\n",
    "import os\n",
    "\n",
    "from sklearn.model_selection import train_test_split\n",
    "from sklearn.feature_extraction.text import CountVectorizer\n",
    "from sklearn.naive_bayes import BernoulliNB\n"
   ]
  },
  {
   "cell_type": "code",
   "execution_count": 2,
   "id": "ba63037d",
   "metadata": {},
   "outputs": [],
   "source": [
    "# utilities\n",
    "def build_split(data, labels, indices):\n",
    "    d = []\n",
    "    l = []\n",
    "    for i in indices:\n",
    "        d.append(data[i])\n",
    "        l.append(labels[i])\n",
    "    return (d, l)"
   ]
  },
  {
   "cell_type": "code",
   "execution_count": 3,
   "id": "75ff661d",
   "metadata": {},
   "outputs": [],
   "source": [
    "###### Pre-Processing #####\n",
    "# open docs file and read its lines\n",
    "with open(\"../data/SMSSpamCollection\", \"r\", encoding=\"utf8\") as fh:\n",
    "    lines = fh.readlines()  "
   ]
  },
  {
   "cell_type": "code",
   "execution_count": 4,
   "id": "61d89c93",
   "metadata": {},
   "outputs": [],
   "source": [
    "# dedupe the original data\n",
    "lines = list(set(lines))\n",
    "\n",
    "# split data\n",
    "labels = []\n",
    "text = []\n",
    "\n",
    "for line in lines:\n",
    "    labels.append(line.split('\\t')[0])\n",
    "    text.append(line.split('\\t')[1])\n",
    "\n",
    "\n",
    "for i in range(len(labels)):\n",
    "    if labels[i] == \"ham\":\n",
    "        labels[i] = \"not_spam\"\n",
    "    else:\n",
    "        labels[i] = \"SPAM\""
   ]
  },
  {
   "cell_type": "code",
   "execution_count": 5,
   "id": "84d207da",
   "metadata": {},
   "outputs": [
    {
     "data": {
      "text/html": [
       "<style>#sk-container-id-1 {color: black;background-color: white;}#sk-container-id-1 pre{padding: 0;}#sk-container-id-1 div.sk-toggleable {background-color: white;}#sk-container-id-1 label.sk-toggleable__label {cursor: pointer;display: block;width: 100%;margin-bottom: 0;padding: 0.3em;box-sizing: border-box;text-align: center;}#sk-container-id-1 label.sk-toggleable__label-arrow:before {content: \"▸\";float: left;margin-right: 0.25em;color: #696969;}#sk-container-id-1 label.sk-toggleable__label-arrow:hover:before {color: black;}#sk-container-id-1 div.sk-estimator:hover label.sk-toggleable__label-arrow:before {color: black;}#sk-container-id-1 div.sk-toggleable__content {max-height: 0;max-width: 0;overflow: hidden;text-align: left;background-color: #f0f8ff;}#sk-container-id-1 div.sk-toggleable__content pre {margin: 0.2em;color: black;border-radius: 0.25em;background-color: #f0f8ff;}#sk-container-id-1 input.sk-toggleable__control:checked~div.sk-toggleable__content {max-height: 200px;max-width: 100%;overflow: auto;}#sk-container-id-1 input.sk-toggleable__control:checked~label.sk-toggleable__label-arrow:before {content: \"▾\";}#sk-container-id-1 div.sk-estimator input.sk-toggleable__control:checked~label.sk-toggleable__label {background-color: #d4ebff;}#sk-container-id-1 div.sk-label input.sk-toggleable__control:checked~label.sk-toggleable__label {background-color: #d4ebff;}#sk-container-id-1 input.sk-hidden--visually {border: 0;clip: rect(1px 1px 1px 1px);clip: rect(1px, 1px, 1px, 1px);height: 1px;margin: -1px;overflow: hidden;padding: 0;position: absolute;width: 1px;}#sk-container-id-1 div.sk-estimator {font-family: monospace;background-color: #f0f8ff;border: 1px dotted black;border-radius: 0.25em;box-sizing: border-box;margin-bottom: 0.5em;}#sk-container-id-1 div.sk-estimator:hover {background-color: #d4ebff;}#sk-container-id-1 div.sk-parallel-item::after {content: \"\";width: 100%;border-bottom: 1px solid gray;flex-grow: 1;}#sk-container-id-1 div.sk-label:hover label.sk-toggleable__label {background-color: #d4ebff;}#sk-container-id-1 div.sk-serial::before {content: \"\";position: absolute;border-left: 1px solid gray;box-sizing: border-box;top: 0;bottom: 0;left: 50%;z-index: 0;}#sk-container-id-1 div.sk-serial {display: flex;flex-direction: column;align-items: center;background-color: white;padding-right: 0.2em;padding-left: 0.2em;position: relative;}#sk-container-id-1 div.sk-item {position: relative;z-index: 1;}#sk-container-id-1 div.sk-parallel {display: flex;align-items: stretch;justify-content: center;background-color: white;position: relative;}#sk-container-id-1 div.sk-item::before, #sk-container-id-1 div.sk-parallel-item::before {content: \"\";position: absolute;border-left: 1px solid gray;box-sizing: border-box;top: 0;bottom: 0;left: 50%;z-index: -1;}#sk-container-id-1 div.sk-parallel-item {display: flex;flex-direction: column;z-index: 1;position: relative;background-color: white;}#sk-container-id-1 div.sk-parallel-item:first-child::after {align-self: flex-end;width: 50%;}#sk-container-id-1 div.sk-parallel-item:last-child::after {align-self: flex-start;width: 50%;}#sk-container-id-1 div.sk-parallel-item:only-child::after {width: 0;}#sk-container-id-1 div.sk-dashed-wrapped {border: 1px dashed gray;margin: 0 0.4em 0.5em 0.4em;box-sizing: border-box;padding-bottom: 0.4em;background-color: white;}#sk-container-id-1 div.sk-label label {font-family: monospace;font-weight: bold;display: inline-block;line-height: 1.2em;}#sk-container-id-1 div.sk-label-container {text-align: center;}#sk-container-id-1 div.sk-container {/* jupyter's `normalize.less` sets `[hidden] { display: none; }` but bootstrap.min.css set `[hidden] { display: none !important; }` so we also need the `!important` here to be able to override the default hidden behavior on the sphinx rendered scikit-learn.org. See: https://github.com/scikit-learn/scikit-learn/issues/21755 */display: inline-block !important;position: relative;}#sk-container-id-1 div.sk-text-repr-fallback {display: none;}</style><div id=\"sk-container-id-1\" class=\"sk-top-container\"><div class=\"sk-text-repr-fallback\"><pre>BernoulliNB()</pre><b>In a Jupyter environment, please rerun this cell to show the HTML representation or trust the notebook. <br />On GitHub, the HTML representation is unable to render, please try loading this page with nbviewer.org.</b></div><div class=\"sk-container\" hidden><div class=\"sk-item\"><div class=\"sk-estimator sk-toggleable\"><input class=\"sk-toggleable__control sk-hidden--visually\" id=\"sk-estimator-id-1\" type=\"checkbox\" checked><label for=\"sk-estimator-id-1\" class=\"sk-toggleable__label sk-toggleable__label-arrow\">BernoulliNB</label><div class=\"sk-toggleable__content\"><pre>BernoulliNB()</pre></div></div></div></div></div>"
      ],
      "text/plain": [
       "BernoulliNB()"
      ]
     },
     "execution_count": 5,
     "metadata": {},
     "output_type": "execute_result"
    }
   ],
   "source": [
    "from sklearn.naive_bayes import MultinomialNB, ComplementNB, BernoulliNB\n",
    "\n",
    "###### Training #####\n",
    "vectorizer = CountVectorizer()\n",
    "mat_train = vectorizer.fit_transform(text)\n",
    "\n",
    "bnb = BernoulliNB()\n",
    "bnb.fit(mat_train, labels)\n",
    "\n"
   ]
  },
  {
   "cell_type": "code",
   "execution_count": 6,
   "id": "f68ba859",
   "metadata": {},
   "outputs": [],
   "source": [
    "###### Input File Processing #####\n",
    "in_path = \"../input\"\n",
    "in_files = []\n",
    "\n",
    "for f in os.listdir(in_path):\n",
    "    if os.path.isfile(os.path.join(in_path, f)):\n",
    "        in_files.append(os.path.join(in_path, f))"
   ]
  },
  {
   "cell_type": "code",
   "execution_count": 7,
   "id": "f70ea5a6",
   "metadata": {
    "scrolled": false
   },
   "outputs": [],
   "source": [
    "in_fn = in_files[0]\n",
    "with open(in_fn, \"r\", encoding=\"utf8\") as fh:\n",
    "    txt = fh.readlines()"
   ]
  },
  {
   "cell_type": "code",
   "execution_count": 8,
   "id": "90963c31",
   "metadata": {},
   "outputs": [],
   "source": [
    "##### Predict #####\n",
    "def predict_input(file, vect, model):\n",
    "    mat_in = vect.transform(file)\n",
    "    \n",
    "    p = model.predict(mat_in)\n",
    "    c = np.max(bnb.predict_proba(mat_in), axis=1)\n",
    "    return p, c # predicted outcome and certainty"
   ]
  },
  {
   "cell_type": "code",
   "execution_count": 9,
   "id": "6cf44786",
   "metadata": {},
   "outputs": [],
   "source": [
    "results = [] # for the whole session\n",
    "\n",
    "for in_fn in in_files:\n",
    "    if(not in_fn.endswith(\".DS_Store\")):\n",
    "        with open(in_fn, \"r\", encoding=\"utf8\") as fh:\n",
    "            txt = fh.readlines()\n",
    "\n",
    "        results.append(predict_input(txt, vectorizer, bnb))"
   ]
  },
  {
   "cell_type": "code",
   "execution_count": 10,
   "id": "bf419018",
   "metadata": {},
   "outputs": [],
   "source": [
    "##### Write Output #####"
   ]
  },
  {
   "cell_type": "code",
   "execution_count": 12,
   "id": "04e6a006",
   "metadata": {},
   "outputs": [
    {
     "name": "stdout",
     "output_type": "stream",
     "text": [
      "['batch_1_results.csv', 'batch_2_results.csv']\n"
     ]
    }
   ],
   "source": [
    "out_path = \"../output\"\n",
    "out_files = []\n",
    "\n",
    "for f in os.listdir(in_path):\n",
    "    if(not f.endswith(\".DS_Store\")):\n",
    "        out_files.append(f + \"_results.csv\")\n",
    "    \n",
    "\"\"\"for fn in in_files:\n",
    "    if(not fn.endswith(\".DS_Store\")):\n",
    "        name = fn.split('\\\\')\n",
    "        print(name)\n",
    "        out_files.append(name + \"_results.csv\")\"\"\"\n",
    "\n",
    "print(out_files)"
   ]
  },
  {
   "cell_type": "code",
   "execution_count": 15,
   "id": "7a9c061d",
   "metadata": {},
   "outputs": [
    {
     "name": "stdout",
     "output_type": "stream",
     "text": [
      "../output/batch_1_results.csv\n",
      "SPAM,1.0\n",
      "not_spam,1.0\n",
      "not_spam,1.0\n",
      "not_spam,1.0\n",
      "not_spam,0.94\n",
      "not_spam,1.0\n",
      "not_spam,1.0\n",
      "not_spam,1.0\n",
      "not_spam,1.0\n",
      "not_spam,1.0\n",
      "\n",
      "../output/batch_2_results.csv\n",
      "not_spam,0.99\n",
      "SPAM,1.0\n",
      "not_spam,1.0\n",
      "not_spam,1.0\n",
      "not_spam,1.0\n",
      "not_spam,1.0\n",
      "not_spam,1.0\n",
      "not_spam,1.0\n",
      "not_spam,1.0\n",
      "not_spam,1.0\n",
      "\n"
     ]
    }
   ],
   "source": [
    "for file in out_files:\n",
    "    out_fn = os.path.join(out_path, file)\n",
    "    print(out_fn)\n",
    "    file_ind = out_files.index(file)\n",
    "    predictions = results[file_ind][0]\n",
    "    certainty = results[file_ind][1]\n",
    "\n",
    "    f_out = open(out_fn, \"w\")\n",
    "    for i in range(len(txt)):\n",
    "        p = predictions[i].astype(str)\n",
    "        c = round(certainty[i], 2).astype(str)\n",
    "        f_out.write(p + ',' + c + \"\\n\")\n",
    "    f_out.close()\n",
    "\n",
    "    check = open(out_fn, \"r\")\n",
    "    print(check.read())\n",
    "    check.close()"
   ]
  },
  {
   "cell_type": "code",
   "execution_count": null,
   "id": "979b7cd5",
   "metadata": {},
   "outputs": [],
   "source": []
  },
  {
   "cell_type": "code",
   "execution_count": null,
   "id": "45958aa2",
   "metadata": {},
   "outputs": [],
   "source": []
  }
 ],
 "metadata": {
  "kernelspec": {
   "display_name": "Python 3 (ipykernel)",
   "language": "python",
   "name": "python3"
  },
  "language_info": {
   "codemirror_mode": {
    "name": "ipython",
    "version": 3
   },
   "file_extension": ".py",
   "mimetype": "text/x-python",
   "name": "python",
   "nbconvert_exporter": "python",
   "pygments_lexer": "ipython3",
   "version": "3.8.9"
  }
 },
 "nbformat": 4,
 "nbformat_minor": 5
}
