{
 "cells": [
  {
   "cell_type": "code",
   "execution_count": 16,
   "id": "5a931c9c",
   "metadata": {},
   "outputs": [],
   "source": [
    "import numpy as np\n",
    "import scipy as sp\n",
    "import os\n",
    "\n",
    "from sklearn.model_selection import train_test_split\n",
    "from sklearn.feature_extraction.text import CountVectorizer\n",
    "from sklearn.naive_bayes import BernoulliNB\n"
   ]
  },
  {
   "cell_type": "code",
   "execution_count": 17,
   "id": "ba63037d",
   "metadata": {},
   "outputs": [],
   "source": [
    "# utilities\n",
    "def build_split(data, labels, indices):\n",
    "    d = []\n",
    "    l = []\n",
    "    for i in indices:\n",
    "        d.append(data[i])\n",
    "        l.append(labels[i])\n",
    "    return (d, l)"
   ]
  },
  {
   "cell_type": "code",
   "execution_count": 18,
   "id": "75ff661d",
   "metadata": {},
   "outputs": [],
   "source": [
    "###### Pre-Processing #####\n",
    "# open docs file and read its lines\n",
    "with open(\"../data/SMSSpamCollection\", \"r\", encoding=\"utf8\") as fh:\n",
    "    lines = fh.readlines()  "
   ]
  },
  {
   "cell_type": "code",
   "execution_count": 19,
   "id": "61d89c93",
   "metadata": {},
   "outputs": [],
   "source": [
    "# dedupe the original data\n",
    "lines = list(set(lines))\n",
    "\n",
    "# split data\n",
    "labels = []\n",
    "text = []\n",
    "\n",
    "for line in lines:\n",
    "    labels.append(line.split('\\t')[0])\n",
    "    text.append(line.split('\\t')[1])\n",
    "\n",
    "\n",
    "for i in range(len(labels)):\n",
    "    if labels[i] == \"ham\":\n",
    "        labels[i] = \"not_spam\"\n",
    "    else:\n",
    "        labels[i] = \"SPAM\""
   ]
  },
  {
   "cell_type": "code",
   "execution_count": 24,
   "id": "714be87b",
   "metadata": {},
   "outputs": [
    {
     "name": "stdout",
     "output_type": "stream",
     "text": [
      "[\"I know where the  &lt;#&gt;  is, I'll be there around 5\\n\", 'Sometimes we put walls around our hearts,not just to be safe from getting hurt.. But to find out who cares enough to break the walls &amp; get closer.. GOODNOON:)\\n', \"Misplaced your number and was sending texts to your old number. Wondering why i've not heard from you this year. All the best in your mcat. Got this number from my atlanta friends\\n\", 'She doesnt need any test.\\n', 'As a registered optin subscriber ur draw 4 £100 gift voucher will be entered on receipt of a correct ans to 80062 Whats No1 in the BBC charts\\n', \"K I'll head out in a few mins, see you there\\n\", \"So how's scotland. Hope you are not over showing your JJC tendencies. Take care. Live the dream\\n\", \"Its not the same here. Still looking for a job. How much do Ta's earn there.\\n\", 'What part of \"don\\'t initiate\" don\\'t you understand\\n', \"I haven't forgotten you, i might have a couple bucks to send you tomorrow, k? I love ya too\\n\", \"The last thing i ever wanted to do was hurt you. And i didn't think it would have. You'd laugh, be embarassed, delete the tag and keep going. But as far as i knew, it wasn't even up. The fact that you even felt like i would do it to hurt you shows you really don't know me at all. It was messy wednesday, but it wasn't bad. The problem i have with it is you HAVE the time to clean it, but you choose not to. You skype, you take pictures, you sleep, you want to go out. I don't mind a few things here and there, but when you don't make the bed, when you throw laundry on top of it, when i can't have a friend in the house because i'm embarassed that there's underwear and bras strewn on the bed, pillows on the floor, that's something else. You used to be good about at least making the bed.\\n\", 'If I get there before you after your ten billion calls and texts so help me god\\n', 'Leaving to qatar tonite in search of an opportunity.all went fast.pls add me in ur prayers dear.Rakhesh\\n', 'Was the farm open?\\n', ' &lt;DECIMAL&gt; m but its not a common car here so its better to buy from china or asia. Or if i find it less expensive. I.ll holla\\n', \"How are you. Its been ages. How's abj\\n\", 'Urgent! Please call 09061213237 from a landline. £5000 cash or a 4* holiday await collection. T &Cs SAE PO Box 177 M227XY. 16+\\n', 'I have printed it oh. So  &lt;#&gt;  come upstairs\\n', 'IM GONNA MISS U SO MUCH\\n', \"You available now? I'm like right around hillsborough &amp;  &lt;#&gt; th\\n\", 'Dunno da next show aft 6 is 850. Toa payoh got 650.\\n', \"He fucking chickened out. He messaged me he would be late and woould buzz me and then I didn't hear a word from him\\n\", 'When/where do I pick you up\\n', \"K.k:)i'm going to tirunelvali this week to see my uncle ..i already spend the amount by taking dress .so only i want money.i will give it on feb 1\\n\", 'Aiyo please ü got time meh.\\n', 'Doing project w frens lor. \\n', \"I think we're going to finn's now, come\\n\", 'Jay is snickering and tells me that x is totally fucking up the chords as we speak\\n', 'You got called a tool?\\n', 'Dude got a haircut. Now its breezy up there\\n', 'Aight should I just plan to come up later tonight?\\n', 'hi baby im cruisin with my girl friend what r u up 2? give me a call in and hour at home if thats alright or fone me on this fone now love jenny xxx\\n', \"Hi. I'm always online on yahoo and would like to chat with you someday\\n\", 'Great! I shoot big loads so get ready!\\n', 'Good. No swimsuit allowed :)\\n', 'I keep seeing weird shit and bein all \"woah\" then realising it\\'s actually reasonable and I\\'m all \"oh\"\\n', 'Well. Im computerless. Time to make some oreo truffles\\n', 'Glad to see your reply.\\n', 'Just looked it up and addie goes back Monday, sucks to be her\\n', \"I was at bugis juz now wat... But now i'm walking home oredi... Ü so late then reply... I oso saw a top dat i like but din buy... Where r ü now? \\n\", 'URGENT! Your Mobile number has been awarded with a £2000 prize GUARANTEED. Call 09061790121 from land line. Claim 3030. Valid 12hrs only 150ppm\\n', 'Go until jurong point, crazy.. Available only in bugis n great world la e buffet... Cine there got amore wat...\\n', \"You will be receiving this week's Triple Echo ringtone shortly. Enjoy it!\\n\", 'I know you are thinkin malaria. But relax, children cant handle malaria. She would have been worse and its gastroenteritis. If she takes enough to replace her loss her temp will reduce. And if you give her malaria meds now she will just vomit. Its a self limiting illness she has which means in a few days it will completely stop\\n', 'No pic. Please re-send.\\n', 'URGENT! We are trying to contact U. Todays draw shows that you have won a £2000 prize GUARANTEED. Call 09066358361 from land line. Claim Y87. Valid 12hrs only\\n', 'K. I will sent it again\\n', 'Probably money worries. Things are coming due and i have several outstanding invoices for work i did two and three months ago.\\n', 'Free video camera phones with Half Price line rental for 12 mths and 500 cross ntwk mins 100 txts. Call MobileUpd8 08001950382 or Call2OptOut/674&\\n', 'Hungry gay guys feeling hungry and up 4 it, now. Call 08718730555 just 10p/min. To stop texts call 08712460324 (10p/min)\\n']\n"
     ]
    }
   ],
   "source": [
    "from random import sample\n",
    "\n",
    "short = sample(text, 50)\n",
    "print(short)\n",
    "\n",
    "f_out = open(\"sample\", \"w\")\n",
    "for s in short:\n",
    "    f_out.write(s)\n",
    "f_out.close()"
   ]
  },
  {
   "cell_type": "code",
   "execution_count": 5,
   "id": "84d207da",
   "metadata": {},
   "outputs": [
    {
     "data": {
      "text/html": [
       "<style>#sk-container-id-1 {color: black;background-color: white;}#sk-container-id-1 pre{padding: 0;}#sk-container-id-1 div.sk-toggleable {background-color: white;}#sk-container-id-1 label.sk-toggleable__label {cursor: pointer;display: block;width: 100%;margin-bottom: 0;padding: 0.3em;box-sizing: border-box;text-align: center;}#sk-container-id-1 label.sk-toggleable__label-arrow:before {content: \"▸\";float: left;margin-right: 0.25em;color: #696969;}#sk-container-id-1 label.sk-toggleable__label-arrow:hover:before {color: black;}#sk-container-id-1 div.sk-estimator:hover label.sk-toggleable__label-arrow:before {color: black;}#sk-container-id-1 div.sk-toggleable__content {max-height: 0;max-width: 0;overflow: hidden;text-align: left;background-color: #f0f8ff;}#sk-container-id-1 div.sk-toggleable__content pre {margin: 0.2em;color: black;border-radius: 0.25em;background-color: #f0f8ff;}#sk-container-id-1 input.sk-toggleable__control:checked~div.sk-toggleable__content {max-height: 200px;max-width: 100%;overflow: auto;}#sk-container-id-1 input.sk-toggleable__control:checked~label.sk-toggleable__label-arrow:before {content: \"▾\";}#sk-container-id-1 div.sk-estimator input.sk-toggleable__control:checked~label.sk-toggleable__label {background-color: #d4ebff;}#sk-container-id-1 div.sk-label input.sk-toggleable__control:checked~label.sk-toggleable__label {background-color: #d4ebff;}#sk-container-id-1 input.sk-hidden--visually {border: 0;clip: rect(1px 1px 1px 1px);clip: rect(1px, 1px, 1px, 1px);height: 1px;margin: -1px;overflow: hidden;padding: 0;position: absolute;width: 1px;}#sk-container-id-1 div.sk-estimator {font-family: monospace;background-color: #f0f8ff;border: 1px dotted black;border-radius: 0.25em;box-sizing: border-box;margin-bottom: 0.5em;}#sk-container-id-1 div.sk-estimator:hover {background-color: #d4ebff;}#sk-container-id-1 div.sk-parallel-item::after {content: \"\";width: 100%;border-bottom: 1px solid gray;flex-grow: 1;}#sk-container-id-1 div.sk-label:hover label.sk-toggleable__label {background-color: #d4ebff;}#sk-container-id-1 div.sk-serial::before {content: \"\";position: absolute;border-left: 1px solid gray;box-sizing: border-box;top: 0;bottom: 0;left: 50%;z-index: 0;}#sk-container-id-1 div.sk-serial {display: flex;flex-direction: column;align-items: center;background-color: white;padding-right: 0.2em;padding-left: 0.2em;position: relative;}#sk-container-id-1 div.sk-item {position: relative;z-index: 1;}#sk-container-id-1 div.sk-parallel {display: flex;align-items: stretch;justify-content: center;background-color: white;position: relative;}#sk-container-id-1 div.sk-item::before, #sk-container-id-1 div.sk-parallel-item::before {content: \"\";position: absolute;border-left: 1px solid gray;box-sizing: border-box;top: 0;bottom: 0;left: 50%;z-index: -1;}#sk-container-id-1 div.sk-parallel-item {display: flex;flex-direction: column;z-index: 1;position: relative;background-color: white;}#sk-container-id-1 div.sk-parallel-item:first-child::after {align-self: flex-end;width: 50%;}#sk-container-id-1 div.sk-parallel-item:last-child::after {align-self: flex-start;width: 50%;}#sk-container-id-1 div.sk-parallel-item:only-child::after {width: 0;}#sk-container-id-1 div.sk-dashed-wrapped {border: 1px dashed gray;margin: 0 0.4em 0.5em 0.4em;box-sizing: border-box;padding-bottom: 0.4em;background-color: white;}#sk-container-id-1 div.sk-label label {font-family: monospace;font-weight: bold;display: inline-block;line-height: 1.2em;}#sk-container-id-1 div.sk-label-container {text-align: center;}#sk-container-id-1 div.sk-container {/* jupyter's `normalize.less` sets `[hidden] { display: none; }` but bootstrap.min.css set `[hidden] { display: none !important; }` so we also need the `!important` here to be able to override the default hidden behavior on the sphinx rendered scikit-learn.org. See: https://github.com/scikit-learn/scikit-learn/issues/21755 */display: inline-block !important;position: relative;}#sk-container-id-1 div.sk-text-repr-fallback {display: none;}</style><div id=\"sk-container-id-1\" class=\"sk-top-container\"><div class=\"sk-text-repr-fallback\"><pre>BernoulliNB()</pre><b>In a Jupyter environment, please rerun this cell to show the HTML representation or trust the notebook. <br />On GitHub, the HTML representation is unable to render, please try loading this page with nbviewer.org.</b></div><div class=\"sk-container\" hidden><div class=\"sk-item\"><div class=\"sk-estimator sk-toggleable\"><input class=\"sk-toggleable__control sk-hidden--visually\" id=\"sk-estimator-id-1\" type=\"checkbox\" checked><label for=\"sk-estimator-id-1\" class=\"sk-toggleable__label sk-toggleable__label-arrow\">BernoulliNB</label><div class=\"sk-toggleable__content\"><pre>BernoulliNB()</pre></div></div></div></div></div>"
      ],
      "text/plain": [
       "BernoulliNB()"
      ]
     },
     "execution_count": 5,
     "metadata": {},
     "output_type": "execute_result"
    }
   ],
   "source": [
    "from sklearn.naive_bayes import MultinomialNB, ComplementNB, BernoulliNB\n",
    "\n",
    "###### Training #####\n",
    "vectorizer = CountVectorizer()\n",
    "mat_train = vectorizer.fit_transform(text)\n",
    "\n",
    "bnb = BernoulliNB()\n",
    "bnb.fit(mat_train, labels)\n",
    "\n"
   ]
  },
  {
   "cell_type": "code",
   "execution_count": 9,
   "id": "f68ba859",
   "metadata": {},
   "outputs": [],
   "source": [
    "###### Input File Processing #####\n",
    "in_path = \"../input\"\n",
    "in_files = []\n",
    "\n",
    "for f in os.listdir(in_path):\n",
    "    if(not f.endswith(\".DS_Store\")): # for cross-platform work\n",
    "        if os.path.isfile(os.path.join(in_path, f)):\n",
    "            in_files.append(os.path.join(in_path, f))"
   ]
  },
  {
   "cell_type": "code",
   "execution_count": 11,
   "id": "90963c31",
   "metadata": {},
   "outputs": [],
   "source": [
    "##### Predict #####\n",
    "def predict_input(file, vect, model):\n",
    "    mat_in = vect.transform(file)\n",
    "    \n",
    "    p = model.predict(mat_in)\n",
    "    c = np.max(bnb.predict_proba(mat_in), axis=1)\n",
    "    return p, c # predicted outcome and certainty"
   ]
  },
  {
   "cell_type": "code",
   "execution_count": 12,
   "id": "6cf44786",
   "metadata": {},
   "outputs": [],
   "source": [
    "results = [] # for the whole session\n",
    "\n",
    "for in_fn in in_files:\n",
    "    if(not in_fn.endswith(\".DS_Store\")):\n",
    "        with open(in_fn, \"r\", encoding=\"utf8\") as fh:\n",
    "            txt = fh.readlines()\n",
    "\n",
    "        results.append(predict_input(txt, vectorizer, bnb))"
   ]
  },
  {
   "cell_type": "code",
   "execution_count": 13,
   "id": "bf419018",
   "metadata": {},
   "outputs": [],
   "source": [
    "##### Write Output #####"
   ]
  },
  {
   "cell_type": "code",
   "execution_count": 14,
   "id": "04e6a006",
   "metadata": {},
   "outputs": [
    {
     "name": "stdout",
     "output_type": "stream",
     "text": [
      "['batch_1_results.csv', 'batch_2_results.csv']\n"
     ]
    }
   ],
   "source": [
    "out_path = \"../output\"\n",
    "out_files = []\n",
    "\n",
    "for f in os.listdir(in_path):\n",
    "    if(not f.endswith(\".DS_Store\")): # for cross-platform work\n",
    "        out_files.append(f + \"_results.csv\")"
   ]
  },
  {
   "cell_type": "code",
   "execution_count": 17,
   "id": "7a9c061d",
   "metadata": {},
   "outputs": [
    {
     "name": "stdout",
     "output_type": "stream",
     "text": [
      "Prediction, Certainty\n",
      "SPAM,1.0\n",
      "not_spam,1.0\n",
      "not_spam,1.0\n",
      "not_spam,1.0\n",
      "not_spam,0.94\n",
      "not_spam,1.0\n",
      "not_spam,1.0\n",
      "not_spam,1.0\n",
      "not_spam,1.0\n",
      "not_spam,1.0\n",
      "\n",
      "Prediction, Certainty\n",
      "not_spam,0.99\n",
      "SPAM,1.0\n",
      "not_spam,1.0\n",
      "not_spam,1.0\n",
      "not_spam,1.0\n",
      "not_spam,1.0\n",
      "not_spam,1.0\n",
      "not_spam,1.0\n",
      "not_spam,1.0\n",
      "not_spam,1.0\n",
      "\n"
     ]
    }
   ],
   "source": [
    "for file in out_files:\n",
    "    out_fn = os.path.join(out_path, file)\n",
    "    file_ind = out_files.index(file)\n",
    "    predictions = results[file_ind][0]\n",
    "    certainty = results[file_ind][1]\n",
    "\n",
    "    f_out = open(out_fn, \"w\")\n",
    "    f_out.write(\"Prediction, Certainty\" + \"\\n\")\n",
    "    f_out.close()\n",
    "    \n",
    "    f_out = open(out_fn, \"a\")\n",
    "    for i in range(len(txt)):\n",
    "        p = predictions[i].astype(str)\n",
    "        c = round(certainty[i], 2).astype(str)\n",
    "        f_out.write(p + ',' + c + \"\\n\")\n",
    "    f_out.close()\n",
    "\n",
    "    check = open(out_fn, \"r\")\n",
    "    print(check.read())\n",
    "    check.close()"
   ]
  },
  {
   "cell_type": "code",
   "execution_count": null,
   "id": "979b7cd5",
   "metadata": {},
   "outputs": [],
   "source": []
  },
  {
   "cell_type": "code",
   "execution_count": null,
   "id": "45958aa2",
   "metadata": {},
   "outputs": [],
   "source": []
  }
 ],
 "metadata": {
  "kernelspec": {
   "display_name": "Python 3 (ipykernel)",
   "language": "python",
   "name": "python3"
  },
  "language_info": {
   "codemirror_mode": {
    "name": "ipython",
    "version": 3
   },
   "file_extension": ".py",
   "mimetype": "text/x-python",
   "name": "python",
   "nbconvert_exporter": "python",
   "pygments_lexer": "ipython3",
   "version": "3.8.9"
  }
 },
 "nbformat": 4,
 "nbformat_minor": 5
}
