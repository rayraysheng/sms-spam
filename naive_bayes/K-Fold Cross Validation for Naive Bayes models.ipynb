{
 "cells": [
  {
   "cell_type": "code",
   "execution_count": 13,
   "id": "5a931c9c",
   "metadata": {},
   "outputs": [],
   "source": [
    "import numpy as np\n",
    "import scipy as sp\n",
    "import statistics as st\n",
    "\n",
    "from sklearn.model_selection import KFold\n",
    "from sklearn.feature_extraction.text import CountVectorizer\n",
    "from sklearn.naive_bayes import MultinomialNB, ComplementNB, BernoulliNB\n",
    "from sklearn.metrics import accuracy_score, precision_score, recall_score\n"
   ]
  },
  {
   "cell_type": "code",
   "execution_count": 3,
   "id": "75ff661d",
   "metadata": {},
   "outputs": [],
   "source": [
    "# open docs file and read its lines\n",
    "with open(\"../data/SMSSpamCollection\", \"r\", encoding=\"utf8\") as fh:\n",
    "    lines = fh.readlines()  "
   ]
  },
  {
   "cell_type": "code",
   "execution_count": 4,
   "id": "60d4641b",
   "metadata": {},
   "outputs": [
    {
     "data": {
      "text/plain": [
       "5574"
      ]
     },
     "execution_count": 4,
     "metadata": {},
     "output_type": "execute_result"
    }
   ],
   "source": [
    "len(lines)"
   ]
  },
  {
   "cell_type": "code",
   "execution_count": 5,
   "id": "12b27bb4",
   "metadata": {},
   "outputs": [
    {
     "data": {
      "text/plain": [
       "5171"
      ]
     },
     "execution_count": 5,
     "metadata": {},
     "output_type": "execute_result"
    }
   ],
   "source": [
    "# dedupe the original data\n",
    "lines = list(set(lines))\n",
    "len(lines)"
   ]
  },
  {
   "cell_type": "code",
   "execution_count": 6,
   "id": "765923f4",
   "metadata": {},
   "outputs": [],
   "source": [
    "# split data\n",
    "labels = []\n",
    "text = []\n",
    "\n",
    "for line in lines:\n",
    "    labels.append(line.split('\\t')[0])\n",
    "    text.append(line.split('\\t')[1])"
   ]
  },
  {
   "cell_type": "code",
   "execution_count": 7,
   "id": "84d207da",
   "metadata": {},
   "outputs": [],
   "source": [
    "for i in range(len(labels)):\n",
    "    if labels[i] == 'ham':\n",
    "        labels[i] = 0\n",
    "    elif labels[i] == 'spam':\n",
    "        labels[i] = 1"
   ]
  },
  {
   "cell_type": "code",
   "execution_count": 8,
   "id": "ad69e4b4",
   "metadata": {},
   "outputs": [],
   "source": [
    "# utilities\n",
    "\n",
    "def build_split(data, labels, indices):\n",
    "    d = []\n",
    "    l = []\n",
    "    for i in indices:\n",
    "        d.append(data[i])\n",
    "        l.append(labels[i])\n",
    "    return (d, l)\n",
    "\n",
    "def evaluate(real, pred):\n",
    "    a = accuracy_score(real, pred)\n",
    "    p = precision_score(real, pred)\n",
    "    r = recall_score(real, pred)\n",
    "    \n",
    "    # print(\"accuracy: \", a, '\\n', \"precision: \", p, '\\n', \"recall: \", r)\n",
    "    return(a,p,r)\n",
    "\n",
    "def list_uniques(l):\n",
    "    unique_values = set(l)\n",
    "    for value in unique_values:\n",
    "        count = l.count(value)\n",
    "        print(f'{value}: {count}')"
   ]
  },
  {
   "cell_type": "code",
   "execution_count": 9,
   "id": "ffb522a4",
   "metadata": {},
   "outputs": [
    {
     "name": "stdout",
     "output_type": "stream",
     "text": [
      "0: 4518\n",
      "1: 653\n"
     ]
    }
   ],
   "source": [
    "list_uniques(labels)"
   ]
  },
  {
   "cell_type": "code",
   "execution_count": null,
   "id": "00220247",
   "metadata": {},
   "outputs": [],
   "source": []
  },
  {
   "cell_type": "code",
   "execution_count": 20,
   "id": "f4aa4ff1",
   "metadata": {},
   "outputs": [],
   "source": [
    "# train and evaluate 3 models for each split\n",
    "m_stats = []\n",
    "c_stats = []\n",
    "b_stats = []\n",
    "v_stats = []\n",
    "\n",
    "k = 5\n",
    "\n",
    "kf = KFold(n_splits=k, shuffle=True)\n",
    "\n",
    "for fold, (train_idx, test_idx) in enumerate(kf.split(text)):\n",
    "    x_train, y_train = build_split(text, labels, train_idx)\n",
    "    x_test, y_test = build_split(text, labels, test_idx)\n",
    "    \n",
    "    # build models\n",
    "    vectorizer = CountVectorizer()\n",
    "    mat_train = vectorizer.fit_transform(x_train)\n",
    "    \n",
    "    mnb = MultinomialNB()\n",
    "    mnb.fit(mat_train, y_train)\n",
    "\n",
    "    cnb = ComplementNB()\n",
    "    cnb.fit(mat_train, y_train)\n",
    "\n",
    "    bnb = BernoulliNB()\n",
    "    bnb.fit(mat_train, y_train)\n",
    "    \n",
    "    # evaluate\n",
    "    mat_test = vectorizer.transform(x_test)\n",
    "\n",
    "    mnb_pred = mnb.predict(mat_test)\n",
    "    cnb_pred = cnb.predict(mat_test)\n",
    "    bnb_pred = bnb.predict(mat_test)\n",
    "    voted = [st.mode([mnb_pred[i], cnb_pred[i], bnb_pred[i]]) for i in range(len(bnb_pred))]\n",
    "\n",
    "    # save evaluation stats\n",
    "    m_stats.append(evaluate(y_test, mnb_pred))\n",
    "    c_stats.append(evaluate(y_test, cnb_pred))\n",
    "    b_stats.append(evaluate(y_test, bnb_pred))\n",
    "    v_stats.append(evaluate(y_test, voted))"
   ]
  },
  {
   "cell_type": "code",
   "execution_count": 21,
   "id": "218034f8",
   "metadata": {},
   "outputs": [
    {
     "name": "stdout",
     "output_type": "stream",
     "text": [
      "Multinomial - a:  0.984916883917809  | p:  0.9724215996622874  | r:  0.9065574191554099\n",
      "Complement  - a:  0.9771808744241677  | p:  0.8933965999482243  | r:  0.9295468753130361\n",
      "Bernoulli   - a:  0.9729276109849654  | p:  0.9965517241379309  | r:  0.7881086284262668\n",
      "Voted       - a:  0.9851103075154878  | p:  0.9724399146806025  | r:  0.9083431334411243\n"
     ]
    }
   ],
   "source": [
    "m_eval = np.mean(m_stats, axis=0)\n",
    "c_eval = np.mean(c_stats, axis=0)\n",
    "b_eval = np.mean(b_stats, axis=0)\n",
    "v_eval = np.mean(v_stats, axis=0)\n",
    "\n",
    "print(\"Multinomial - a: \", m_eval[0], \" | p: \", m_eval[1], \" | r: \", m_eval[2])\n",
    "print(\"Complement  - a: \", c_eval[0], \" | p: \", c_eval[1], \" | r: \", c_eval[2])\n",
    "print(\"Bernoulli   - a: \", b_eval[0], \" | p: \", b_eval[1], \" | r: \", b_eval[2])\n",
    "print(\"Voted       - a: \", v_eval[0], \" | p: \", v_eval[1], \" | r: \", v_eval[2])"
   ]
  },
  {
   "cell_type": "code",
   "execution_count": null,
   "id": "bf419018",
   "metadata": {},
   "outputs": [],
   "source": []
  },
  {
   "cell_type": "code",
   "execution_count": null,
   "id": "04e6a006",
   "metadata": {},
   "outputs": [],
   "source": []
  }
 ],
 "metadata": {
  "kernelspec": {
   "display_name": "Python 3 (ipykernel)",
   "language": "python",
   "name": "python3"
  },
  "language_info": {
   "codemirror_mode": {
    "name": "ipython",
    "version": 3
   },
   "file_extension": ".py",
   "mimetype": "text/x-python",
   "name": "python",
   "nbconvert_exporter": "python",
   "pygments_lexer": "ipython3",
   "version": "3.9.13"
  }
 },
 "nbformat": 4,
 "nbformat_minor": 5
}
